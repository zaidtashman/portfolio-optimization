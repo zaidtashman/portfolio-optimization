{
 "cells": [
  {
   "cell_type": "code",
   "execution_count": 44,
   "metadata": {},
   "outputs": [],
   "source": [
    "import pandas as pd\n",
    "df = pd.read_csv(\"bloomberg/anr.csv\")"
   ]
  },
  {
   "cell_type": "code",
   "execution_count": 45,
   "metadata": {},
   "outputs": [
    {
     "data": {
      "text/html": [
       "<div>\n",
       "<style scoped>\n",
       "    .dataframe tbody tr th:only-of-type {\n",
       "        vertical-align: middle;\n",
       "    }\n",
       "\n",
       "    .dataframe tbody tr th {\n",
       "        vertical-align: top;\n",
       "    }\n",
       "\n",
       "    .dataframe thead th {\n",
       "        text-align: right;\n",
       "    }\n",
       "</style>\n",
       "<table border=\"1\" class=\"dataframe\">\n",
       "  <thead>\n",
       "    <tr style=\"text-align: right;\">\n",
       "      <th></th>\n",
       "      <th>symbol</th>\n",
       "      <th>mu</th>\n",
       "      <th>sigma</th>\n",
       "      <th>entropy</th>\n",
       "      <th>position</th>\n",
       "    </tr>\n",
       "  </thead>\n",
       "  <tbody>\n",
       "    <tr>\n",
       "      <th>0</th>\n",
       "      <td>MS US Equity</td>\n",
       "      <td>0.271594</td>\n",
       "      <td>0.017980</td>\n",
       "      <td>0.407194</td>\n",
       "      <td>1</td>\n",
       "    </tr>\n",
       "    <tr>\n",
       "      <th>1</th>\n",
       "      <td>MA US Equity</td>\n",
       "      <td>0.076093</td>\n",
       "      <td>0.005824</td>\n",
       "      <td>0.686622</td>\n",
       "      <td>1</td>\n",
       "    </tr>\n",
       "    <tr>\n",
       "      <th>2</th>\n",
       "      <td>ELAN US Equity</td>\n",
       "      <td>0.198331</td>\n",
       "      <td>0.006827</td>\n",
       "      <td>0.415581</td>\n",
       "      <td>1</td>\n",
       "    </tr>\n",
       "    <tr>\n",
       "      <th>3</th>\n",
       "      <td>C US Equity</td>\n",
       "      <td>0.227062</td>\n",
       "      <td>0.023382</td>\n",
       "      <td>0.508636</td>\n",
       "      <td>1</td>\n",
       "    </tr>\n",
       "    <tr>\n",
       "      <th>4</th>\n",
       "      <td>CTL US Equity</td>\n",
       "      <td>0.360252</td>\n",
       "      <td>0.100368</td>\n",
       "      <td>0.013464</td>\n",
       "      <td>1</td>\n",
       "    </tr>\n",
       "  </tbody>\n",
       "</table>\n",
       "</div>"
      ],
      "text/plain": [
       "           symbol        mu     sigma   entropy  position\n",
       "0    MS US Equity  0.271594  0.017980  0.407194         1\n",
       "1    MA US Equity  0.076093  0.005824  0.686622         1\n",
       "2  ELAN US Equity  0.198331  0.006827  0.415581         1\n",
       "3     C US Equity  0.227062  0.023382  0.508636         1\n",
       "4   CTL US Equity  0.360252  0.100368  0.013464         1"
      ]
     },
     "execution_count": 45,
     "metadata": {},
     "output_type": "execute_result"
    }
   ],
   "source": [
    "df.head()"
   ]
  },
  {
   "cell_type": "code",
   "execution_count": 46,
   "metadata": {},
   "outputs": [
    {
     "data": {
      "text/plain": [
       "'MS US Equity'"
      ]
     },
     "execution_count": 46,
     "metadata": {},
     "output_type": "execute_result"
    }
   ],
   "source": [
    "df['symbol'][0]"
   ]
  },
  {
   "cell_type": "code",
   "execution_count": 80,
   "metadata": {},
   "outputs": [
    {
     "name": "stdout",
     "output_type": "stream",
     "text": [
      "AMRN US Equity @ 1 = 0.087241 => 1.19074598677998\n",
      "GOOGL US Equity @ 1 = 0.200000 => 0.16357714378534\n",
      "BABA US Equity @ 1 = 0.200000 => 0.213610698059186\n",
      "CRM US Equity @ 1 = 0.059476 => 0.0504845406866416\n",
      "AMZN US Equity @ 1 = 0.200000 => 0.280226500158002\n",
      "CVS US Equity @ 1 = 0.053282 => 0.337656523449689\n",
      "ET US Equity @ 1 = 0.200000 => 0.452888583218707\n",
      "expected returns = 0.3469366911413398\n"
     ]
    }
   ],
   "source": [
    "from ortools.linear_solver import pywraplp\n",
    "\n",
    "# Instantiate a Glop solver, naming it SolveStigler.\n",
    "solver = pywraplp.Solver('SolveStigler',\n",
    "                         pywraplp.Solver.GLOP_LINEAR_PROGRAMMING)\n",
    "# Declare an array to hold our nutritional data.\n",
    "#food = [[]] * len(data)\n",
    "nassets = df.shape[0]\n",
    "w = [[]] * nassets\n",
    "\n",
    "# Objective: minimize the sum of (price-normalized) foods.\n",
    "objective = solver.Objective()\n",
    "for i in range(0, nassets):\n",
    "  w[i] = solver.NumVar(0.0, 0.2, df['symbol'][i])\n",
    "  objective.SetCoefficient(w[i], df['mu'][i])\n",
    "objective.SetMaximization()\n",
    "\n",
    "constraint0 = solver.Constraint(1, 1)\n",
    "constraint1 = solver.Constraint(-solver.infinity(), 0.05)\n",
    "constraint2 = solver.Constraint(0.85, solver.infinity())\n",
    "for i in range(0, nassets):\n",
    "    constraint0.SetCoefficient(w[i], 1)\n",
    "    constraint1.SetCoefficient(w[i], df['sigma'][i])\n",
    "    constraint2.SetCoefficient(w[i], df['entropy'][i])\n",
    "\n",
    "status = solver.Solve()\n",
    "\n",
    "if status == solver.OPTIMAL:\n",
    "    er = 0.0\n",
    "    for i in range(0, nassets):\n",
    "        if w[i].solution_value() > 0.0:\n",
    "            er += w[i].solution_value()*df['mu'][i]\n",
    "            print(\"%s @ %s = %f => %s\" % (w[i], df['position'][i], w[i].solution_value(), df['mu'][i]))\n",
    "    print(\"expected returns =\", er)\n"
   ]
  },
  {
   "cell_type": "code",
   "execution_count": 25,
   "metadata": {},
   "outputs": [
    {
     "data": {
      "text/plain": [
       "0"
      ]
     },
     "execution_count": 25,
     "metadata": {},
     "output_type": "execute_result"
    }
   ],
   "source": [
    "for i in 1"
   ]
  },
  {
   "cell_type": "code",
   "execution_count": 14,
   "metadata": {},
   "outputs": [
    {
     "data": {
      "text/plain": [
       "99"
      ]
     },
     "execution_count": 14,
     "metadata": {},
     "output_type": "execute_result"
    }
   ],
   "source": [
    "df.shape[0]"
   ]
  },
  {
   "cell_type": "code",
   "execution_count": null,
   "metadata": {},
   "outputs": [],
   "source": []
  },
  {
   "cell_type": "code",
   "execution_count": 6,
   "metadata": {},
   "outputs": [
    {
     "ename": "NameError",
     "evalue": "name 'food' is not defined",
     "output_type": "error",
     "traceback": [
      "\u001b[0;31m---------------------------------------------------------------------------\u001b[0m",
      "\u001b[0;31mNameError\u001b[0m                                 Traceback (most recent call last)",
      "\u001b[0;32m<ipython-input-6-3316b4012015>\u001b[0m in \u001b[0;36m<module>\u001b[0;34m\u001b[0m\n\u001b[0;32m----> 1\u001b[0;31m \u001b[0mfood\u001b[0m\u001b[0;34m\u001b[0m\u001b[0;34m\u001b[0m\u001b[0m\n\u001b[0m",
      "\u001b[0;31mNameError\u001b[0m: name 'food' is not defined"
     ]
    }
   ],
   "source": [
    "\n",
    "# if status == solver.OPTIMAL:\n",
    "#   # Display the amounts (in dollars) to purchase of each food.\n",
    "#   price = 0\n",
    "#   num_nutrients = len(data[i]) - 3\n",
    "#   nutrients = [0] * (len(data[i]) - 3)\n",
    "#   for i in range(0, len(data)):\n",
    "#     price += food[i].solution_value()\n",
    "\n",
    "#     for nutrient in range(0, num_nutrients):\n",
    "#       nutrients[nutrient] += data[i][nutrient+3] * food[i].solution_value()\n",
    "\n",
    "#     if food[i].solution_value() > 0:\n",
    "#       print(\"%s = %f\" % (data[i][0], food[i].solution_value()))\n",
    "\n",
    "#   print('Optimal annual price: $%.2f' % (365 * price))\n",
    "# else:  # No optimal solution was found.\n",
    "#   if status == solver.FEASIBLE:\n",
    "#     print('A potentially suboptimal solution was found.')\n",
    "#   else:\n",
    "#     print('The solver could not solve the problem.')"
   ]
  },
  {
   "cell_type": "code",
   "execution_count": null,
   "metadata": {},
   "outputs": [],
   "source": []
  }
 ],
 "metadata": {
  "kernelspec": {
   "display_name": "Python 3",
   "language": "python",
   "name": "python3"
  },
  "language_info": {
   "codemirror_mode": {
    "name": "ipython",
    "version": 3
   },
   "file_extension": ".py",
   "mimetype": "text/x-python",
   "name": "python",
   "nbconvert_exporter": "python",
   "pygments_lexer": "ipython3",
   "version": "3.7.1"
  }
 },
 "nbformat": 4,
 "nbformat_minor": 2
}
